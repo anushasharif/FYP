{
 "cells": [
  {
   "cell_type": "code",
   "execution_count": 2,
   "metadata": {},
   "outputs": [
    {
     "name": "stdout",
     "output_type": "stream",
     "text": [
      "Brand Categories     1  2   3  4  5  6  7   8\n",
      "Consumer Categories                          \n",
      "1                    0  0   9  1  5  2  1   6\n",
      "2                    0  0   1  0  0  1  0   0\n",
      "3                    0  1  18  4  7  2  0  13\n",
      "4                    1  1  12  1  7  2  1   7\n",
      "5                    0  0   2  1  0  1  0   1\n",
      "6                    0  0   1  0  0  0  1   0\n",
      "8                    0  0   2  0  1  0  0   0\n"
     ]
    }
   ],
   "source": [
    "import pandas as pd\n",
    "\n",
    "# Read the data from the Excel file into a DataFrame\n",
    "df = pd.read_excel('C:/Users/Toshiba/OneDrive/Desktop/ConsumerBrand.xlsx')\n",
    "\n",
    "# Perform cross tabulation\n",
    "cross_tab = pd.crosstab(df['Consumer Categories'], df['Brand Categories'])\n",
    "\n",
    "print(cross_tab)"
   ]
  },
  {
   "cell_type": "code",
   "execution_count": 6,
   "metadata": {},
   "outputs": [
    {
     "name": "stdout",
     "output_type": "stream",
     "text": [
      "Cross-tabulation in % between Consumer Categories and Brand Categories:\n",
      "Brand Categories        1     2      3      4      5      6      7      8  \\\n",
      "Consumer Categories                                                         \n",
      "1                    0.00  0.00  37.50   4.17  20.83   8.33   4.17  25.00   \n",
      "2                    0.00  0.00  50.00   0.00   0.00  50.00   0.00   0.00   \n",
      "3                    0.00  2.22  40.00   8.89  15.56   4.44   0.00  28.89   \n",
      "4                    3.12  3.12  37.50   3.12  21.88   6.25   3.12  21.88   \n",
      "5                    0.00  0.00  40.00  20.00   0.00  20.00   0.00  20.00   \n",
      "6                    0.00  0.00  50.00   0.00   0.00   0.00  50.00   0.00   \n",
      "8                    0.00  0.00  66.67   0.00  33.33   0.00   0.00   0.00   \n",
      "Total                0.88  1.77  39.82   6.19  17.70   7.08   2.65  23.89   \n",
      "\n",
      "Brand Categories     Total  \n",
      "Consumer Categories         \n",
      "1                    100.0  \n",
      "2                    100.0  \n",
      "3                    100.0  \n",
      "4                    100.0  \n",
      "5                    100.0  \n",
      "6                    100.0  \n",
      "8                    100.0  \n",
      "Total                100.0  \n"
     ]
    }
   ],
   "source": [
    "# Define the column names\n",
    "consumer_categories_col = 'Consumer Categories'\n",
    "brand_categories_col = 'Brand Categories'\n",
    "\n",
    "# Perform cross tabulation\n",
    "cross_tab = pd.crosstab(df[consumer_categories_col], df[brand_categories_col], margins=True, margins_name='Total')\n",
    "\n",
    "# Calculate percentages\n",
    "cross_tab_percentage = cross_tab.div(cross_tab['Total'], axis=0) * 100\n",
    "cross_tab_percentage = cross_tab_percentage.round(2)\n",
    "\n",
    "# Print cross tabulation with custom heading\n",
    "print(f\"Cross-tabulation in % between {consumer_categories_col} and {brand_categories_col}:\")\n",
    "print(cross_tab_percentage)"
   ]
  },
  {
   "cell_type": "code",
   "execution_count": null,
   "metadata": {},
   "outputs": [],
   "source": []
  }
 ],
 "metadata": {
  "kernelspec": {
   "display_name": "Python 3",
   "language": "python",
   "name": "python3"
  },
  "language_info": {
   "codemirror_mode": {
    "name": "ipython",
    "version": 3
   },
   "file_extension": ".py",
   "mimetype": "text/x-python",
   "name": "python",
   "nbconvert_exporter": "python",
   "pygments_lexer": "ipython3",
   "version": "3.8.3"
  }
 },
 "nbformat": 4,
 "nbformat_minor": 4
}
